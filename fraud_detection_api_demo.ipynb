{
  "cells": [
    {
      "cell_type": "markdown",
      "metadata": {
        "id": "nXNfdXLnjUfL"
      },
      "source": [
        "# 🛡️ 詐欺交易預測 Demo：Flask API + 模擬資料集\n",
        "\n",
        "本教學示範如何：\n",
        "1. 建立簡易 Flask API 接收交易資料\n",
        "2. 載入訓練好的機器學習模型進行預測\n",
        "3. 使用 `ngrok` 讓本地 API 可於 Colab 測試\n",
        "\n",
        "📌 適合展示如何將模型應用於實務場景"
      ]
    },
    {
      "cell_type": "code",
      "execution_count": 49,
      "metadata": {
        "id": "Uyu7EVy2jUfS"
      },
      "outputs": [],
      "source": [
        "# ✅ 安裝必要套件\n",
        "!pip install flask-ngrok scikit-learn pandas numpy --quiet"
      ]
    },
    {
      "cell_type": "code",
      "execution_count": null,
      "metadata": {
        "id": "ITbBgfLhjUfV"
      },
      "outputs": [],
      "source": [
        "# 📦 建立模型並儲存\n",
        "import pandas as pd\n",
        "import numpy as np\n",
        "from sklearn.model_selection import train_test_split\n",
        "from sklearn.preprocessing import StandardScaler\n",
        "from sklearn.linear_model import LogisticRegression\n",
        "import joblib\n",
        "\n",
        "# 模擬資料集\n",
        "n = 5000\n",
        "locations = ['台北', '台中', '高雄']\n",
        "devices = ['mobile', 'desktop']\n",
        "\n",
        "df = pd.DataFrame({\n",
        "    'amount': np.random.exponential(scale=1000, size=n).round(2),\n",
        "    'location': np.random.choice(locations, n),\n",
        "    'device_type': np.random.choice(devices, n),\n",
        "    'time': np.random.uniform(0, 24, n).round(2),\n",
        "    'is_fraud': np.random.choice([0, 1], p=[0.98, 0.02], size=n)\n",
        "})\n",
        "\n",
        "# 特徵工程\n",
        "X = pd.get_dummies(df.drop('is_fraud', axis=1), drop_first=True)\n",
        "y = df['is_fraud']\n",
        "X_train, X_test, y_train, y_test = train_test_split(X, y, stratify=y)\n",
        "scaler = StandardScaler()\n",
        "X_train_scaled = scaler.fit_transform(X_train)\n",
        "\n",
        "model = LogisticRegression(class_weight='balanced')\n",
        "model.fit(X_train_scaled, y_train)\n",
        "\n",
        "# 儲存模型與 scaler\n",
        "joblib.dump(model, 'fraud_model.pkl')\n",
        "joblib.dump(scaler, 'scaler.pkl')"
      ]
    },
    {
      "cell_type": "code",
      "metadata": {
        "id": "ce63bd1e"
      },
      "source": [
        "# 🖥️ 建立 Flask API 並進行測試\n",
        "from flask import Flask, request, jsonify\n",
        "import joblib\n",
        "import pandas as pd\n",
        "from threading import Thread\n",
        "import time\n",
        "import requests\n",
        "from google.colab.output import eval_js\n",
        "from pyngrok import ngrok\n",
        "\n",
        "# 載入模型與 scaler\n",
        "model = joblib.load('fraud_model.pkl')\n",
        "scaler = joblib.load('scaler.pkl')\n",
        "\n",
        "# --- Flask App ---\n",
        "app = Flask(__name__)\n",
        "\n",
        "@app.route(\"/predict\", methods=[\"POST\"])\n",
        "def predict():\n",
        "    data = request.get_json()\n",
        "    df = pd.DataFrame([data])\n",
        "\n",
        "    # 進行 one-hot encoding\n",
        "    df_encoded = pd.get_dummies(df, columns=['location', 'device_type'], drop_first=True)\n",
        "\n",
        "    # 補上訓練時有，但此次請求沒有的欄位\n",
        "    for col in X_train.columns: # 使用訓練時的欄位來對齊\n",
        "        if col not in df_encoded.columns:\n",
        "            df_encoded[col] = 0\n",
        "\n",
        "    # 確保欄位順序與訓練時一致\n",
        "    df_encoded = df_encoded[X_train.columns]\n",
        "\n",
        "    X_scaled = scaler.transform(df_encoded)\n",
        "    pred = model.predict(X_scaled)[0]\n",
        "    prob = model.predict_proba(X_scaled)[0][1]\n",
        "\n",
        "    return jsonify({\n",
        "        \"is_fraud\": int(pred),\n",
        "        \"fraud_probability\": round(prob, 4)\n",
        "    })\n",
        "\n",
        "def run_app():\n",
        "    # 不使用 run_with_ngrok，改為手動啟動\n",
        "    app.run(port=5000)\n",
        "\n",
        "# --- Ngrok and Testing ---\n",
        "# 提示使用者輸入 ngrok authtoken\n",
        "authtoken = input(\"請貼上您的 ngrok authtoken: \")\n",
        "ngrok.set_auth_token(authtoken)\n",
        "\n",
        "# 在背景執行 Flask app\n",
        "thread = Thread(target=run_app)\n",
        "thread.daemon = True\n",
        "thread.start()\n",
        "time.sleep(3) # 等待 app 啟動\n",
        "\n",
        "# 建立 ngrok 通道並取得 URL\n",
        "tunnel = ngrok.connect(5000)\n",
        "public_url = tunnel.public_url\n",
        "print(f\"✅ Ngrok public URL: {public_url}\")\n",
        "\n",
        "\n",
        "# --- 測試 API ---\n",
        "sample = {\n",
        "    \"amount\": 5000,\n",
        "    \"location\": \"台中\",\n",
        "    \"device_type\": \"mobile\",\n",
        "    \"time\": 2.5\n",
        "}\n",
        "\n",
        "try:\n",
        "    res = requests.post(f\"{public_url}/predict\", json=sample)\n",
        "    res.raise_for_status() # 如果請求失敗，會拋出例外\n",
        "    print(\"\\n✅ 測試請求成功！\")\n",
        "    print(\"API 回應:\", res.json())\n",
        "except requests.exceptions.RequestException as e:\n",
        "    print(f\"\\n❌ 測試請求失敗: {e}\")\n",
        "finally:\n",
        "    # 關閉 ngrok 連線\n",
        "    ngrok.kill()"
      ],
      "execution_count": null,
      "outputs": []
    },
    {
      "cell_type": "markdown",
      "metadata": {
        "id": "wv1AQ89djUfX"
      },
      "source": [
        "### ✅ 測試 API\n",
        "使用 `requests` 套件傳送 POST 請求："
      ]
    },
    {
      "cell_type": "code",
      "execution_count": null,
      "metadata": {
        "id": "pslUQpKrjUfX"
      },
      "outputs": [],
      "source": [
        "import requests\n",
        "\n",
        "url = \"http://localhost:5000/predict\"\n",
        "sample = {\n",
        "    \"amount\": 5000,\n",
        "    \"location\": \"台中\",\n",
        "    \"device_type\": \"mobile\",\n",
        "    \"time\": 2.5\n",
        "}\n",
        "\n",
        "res = requests.post(url, json=sample)\n",
        "print(res.json())"
      ]
    }
  ],
  "metadata": {
    "colab": {
      "name": "fraud_detection_api_demo.ipynb",
      "provenance": []
    },
    "kernelspec": {
      "display_name": "Python 3",
      "language": "python",
      "name": "python3"
    },
    "language_info": {
      "name": "python"
    }
  },
  "nbformat": 4,
  "nbformat_minor": 0
}